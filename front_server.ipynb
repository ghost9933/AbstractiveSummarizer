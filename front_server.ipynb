{
  "cells": [
    {
      "cell_type": "code",
      "execution_count": null,
      "metadata": {
        "colab": {
          "base_uri": "https://localhost:8080/"
        },
        "id": "9IsBRYdAdK-W",
        "outputId": "98697db8-1608-4b0e-ab44-8118774d1842"
      },
      "outputs": [
        {
          "output_type": "stream",
          "name": "stdout",
          "text": [
            "Requirement already satisfied: flask in /usr/local/lib/python3.10/dist-packages (2.2.5)\n",
            "Requirement already satisfied: Werkzeug>=2.2.2 in /usr/local/lib/python3.10/dist-packages (from flask) (3.0.1)\n",
            "Requirement already satisfied: Jinja2>=3.0 in /usr/local/lib/python3.10/dist-packages (from flask) (3.1.2)\n",
            "Requirement already satisfied: itsdangerous>=2.0 in /usr/local/lib/python3.10/dist-packages (from flask) (2.1.2)\n",
            "Requirement already satisfied: click>=8.0 in /usr/local/lib/python3.10/dist-packages (from flask) (8.1.7)\n",
            "Requirement already satisfied: MarkupSafe>=2.0 in /usr/local/lib/python3.10/dist-packages (from Jinja2>=3.0->flask) (2.1.3)\n",
            "Collecting flask-ngrok\n",
            "  Downloading flask_ngrok-0.0.25-py3-none-any.whl (3.1 kB)\n",
            "Requirement already satisfied: Flask>=0.8 in /usr/local/lib/python3.10/dist-packages (from flask-ngrok) (2.2.5)\n",
            "Requirement already satisfied: requests in /usr/local/lib/python3.10/dist-packages (from flask-ngrok) (2.31.0)\n",
            "Requirement already satisfied: Werkzeug>=2.2.2 in /usr/local/lib/python3.10/dist-packages (from Flask>=0.8->flask-ngrok) (3.0.1)\n",
            "Requirement already satisfied: Jinja2>=3.0 in /usr/local/lib/python3.10/dist-packages (from Flask>=0.8->flask-ngrok) (3.1.2)\n",
            "Requirement already satisfied: itsdangerous>=2.0 in /usr/local/lib/python3.10/dist-packages (from Flask>=0.8->flask-ngrok) (2.1.2)\n",
            "Requirement already satisfied: click>=8.0 in /usr/local/lib/python3.10/dist-packages (from Flask>=0.8->flask-ngrok) (8.1.7)\n",
            "Requirement already satisfied: charset-normalizer<4,>=2 in /usr/local/lib/python3.10/dist-packages (from requests->flask-ngrok) (3.3.2)\n",
            "Requirement already satisfied: idna<4,>=2.5 in /usr/local/lib/python3.10/dist-packages (from requests->flask-ngrok) (3.6)\n",
            "Requirement already satisfied: urllib3<3,>=1.21.1 in /usr/local/lib/python3.10/dist-packages (from requests->flask-ngrok) (2.0.7)\n",
            "Requirement already satisfied: certifi>=2017.4.17 in /usr/local/lib/python3.10/dist-packages (from requests->flask-ngrok) (2023.11.17)\n",
            "Requirement already satisfied: MarkupSafe>=2.0 in /usr/local/lib/python3.10/dist-packages (from Jinja2>=3.0->Flask>=0.8->flask-ngrok) (2.1.3)\n",
            "Installing collected packages: flask-ngrok\n",
            "Successfully installed flask-ngrok-0.0.25\n",
            "Collecting flask_json\n",
            "  Downloading Flask_JSON-0.4.0-py3-none-any.whl (8.7 kB)\n",
            "Requirement already satisfied: Flask>=2.2.0 in /usr/local/lib/python3.10/dist-packages (from flask_json) (2.2.5)\n",
            "Requirement already satisfied: Werkzeug>=2.2.2 in /usr/local/lib/python3.10/dist-packages (from Flask>=2.2.0->flask_json) (3.0.1)\n",
            "Requirement already satisfied: Jinja2>=3.0 in /usr/local/lib/python3.10/dist-packages (from Flask>=2.2.0->flask_json) (3.1.2)\n",
            "Requirement already satisfied: itsdangerous>=2.0 in /usr/local/lib/python3.10/dist-packages (from Flask>=2.2.0->flask_json) (2.1.2)\n",
            "Requirement already satisfied: click>=8.0 in /usr/local/lib/python3.10/dist-packages (from Flask>=2.2.0->flask_json) (8.1.7)\n",
            "Requirement already satisfied: MarkupSafe>=2.0 in /usr/local/lib/python3.10/dist-packages (from Jinja2>=3.0->Flask>=2.2.0->flask_json) (2.1.3)\n",
            "Installing collected packages: flask_json\n",
            "Successfully installed flask_json-0.4.0\n"
          ]
        }
      ],
      "source": [
        "!pip install flask\n",
        "!pip install flask-ngrok\n",
        "!pip install flask_json"
      ]
    },
    {
      "cell_type": "code",
      "execution_count": null,
      "metadata": {
        "id": "bvs2algseLkL"
      },
      "outputs": [],
      "source": [
        "from flask import *\n",
        "from flask_json import FlaskJSON, JsonError, json_response, as_json\n",
        "from flask_ngrok import run_with_ngrok"
      ]
    },
    {
      "cell_type": "code",
      "execution_count": null,
      "metadata": {
        "id": "QSgO5wLz65uQ"
      },
      "outputs": [],
      "source": []
    },
    {
      "cell_type": "code",
      "execution_count": null,
      "metadata": {
        "colab": {
          "base_uri": "https://localhost:8080/"
        },
        "id": "GPZzXpdJfS7c",
        "outputId": "d282a99b-23ff-4f9d-ca2c-233f5aa4f7ad"
      },
      "outputs": [
        {
          "output_type": "stream",
          "name": "stdout",
          "text": [
            " * Serving Flask app '__main__'\n",
            " * Debug mode: off\n"
          ]
        },
        {
          "output_type": "stream",
          "name": "stderr",
          "text": [
            "INFO:werkzeug:\u001b[31m\u001b[1mWARNING: This is a development server. Do not use it in a production deployment. Use a production WSGI server instead.\u001b[0m\n",
            " * Running on http://127.0.0.1:5000\n",
            "INFO:werkzeug:\u001b[33mPress CTRL+C to quit\u001b[0m\n"
          ]
        },
        {
          "output_type": "stream",
          "name": "stdout",
          "text": [
            " * Running on http://8ee5-34-82-43-70.ngrok.io\n",
            " * Traffic stats available on http://127.0.0.1:4040\n"
          ]
        },
        {
          "output_type": "stream",
          "name": "stderr",
          "text": [
            "INFO:werkzeug:127.0.0.1 - - [08/Dec/2023 20:49:46] \"\u001b[33mGET / HTTP/1.1\u001b[0m\" 404 -\n",
            "INFO:werkzeug:127.0.0.1 - - [08/Dec/2023 20:49:47] \"\u001b[33mGET /favicon.ico HTTP/1.1\u001b[0m\" 404 -\n"
          ]
        }
      ],
      "source": [
        "# from flask import Flask, render_template, url_for, request, redirect, jsonify\n",
        "import requests\n",
        "# from flask import *\n",
        "import sys\n",
        "import nltk\n",
        "import re\n",
        "from nltk.tokenize import sent_tokenize\n",
        "app = Flask(__name__)\n",
        "run_with_ngrok(app)\n",
        "\n",
        "\n",
        "@app.route('/home',methods=['GET', 'POST'])\n",
        "def helloo():\n",
        "\n",
        "    pegasus_api_url='http://7d50-35-237-194-155.ngrok.io'\n",
        "    qa_api_url='http://3a2912245ad5.ngrok.io/'\n",
        "    answer=[]\n",
        "\n",
        "    if request.method == 'POST':\n",
        "        # content= request.get_json()\n",
        "        text=request.form.get('content')\n",
        "\n",
        "        content={}\n",
        "        content[0]=text\n",
        "        # sentences=sent_tokenize(content[0])\n",
        "        # print(sentences)\n",
        "        # sentences_clean=[re.sub(r'[^\\w\\s]','',sentence.lower()) for sentence in sentences]\n",
        "        # content[0]='. '.join(sentences_clean)\n",
        "        print(content)\n",
        "        try:\n",
        "\n",
        "            rsummary = requests.post(url=pegasus_api_url, json=content)\n",
        "            summary=rsummary.text\n",
        "            answer.append(summary)\n",
        "\n",
        "            qa_content = requests.get(url=qa_api_url, json=content)\n",
        "            toatalq=qa_content.text\n",
        "            answer.append(toatalq)\n",
        "\n",
        "            d={}\n",
        "            d[0]=rsummary.text\n",
        "\n",
        "            qa_summary = requests.post(url=qa_api_url, json=d)\n",
        "            sumq=qa_summary.text\n",
        "            answer.append(sumq)\n",
        "\n",
        "\n",
        "            # print(jsonify(answer))\n",
        "            # render output page\n",
        "            # return Response(json.dumps(answer),  mimetype='application/json')\n",
        "            return render_template('output.html', title=\"page\", summary=rsummary.text,qa=qa_content.text,qas=qa_summary.text)\n",
        "\n",
        "\n",
        "        except:\n",
        "            e=str(sys.exc_info()[0])\n",
        "            print(e)\n",
        "            return e\n",
        "\n",
        "\n",
        "    else:\n",
        "        # render landing page\n",
        "        return render_template('output.html', title=\"page\")\n",
        "\n",
        "\n",
        "if __name__ == '__main__':\n",
        "    app.run()\n"
      ]
    }
  ],
  "metadata": {
    "colab": {
      "provenance": []
    },
    "kernelspec": {
      "display_name": "Python 3",
      "name": "python3"
    },
    "language_info": {
      "name": "python"
    }
  },
  "nbformat": 4,
  "nbformat_minor": 0
}